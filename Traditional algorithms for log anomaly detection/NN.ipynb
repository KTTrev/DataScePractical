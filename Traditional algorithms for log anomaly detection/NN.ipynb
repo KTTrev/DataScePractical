{
 "cells": [
  {
   "cell_type": "code",
   "execution_count": 1,
   "metadata": {},
   "outputs": [],
   "source": [
    "import pandas as pd\n",
    "import numpy as np\n",
    "from sklearn.preprocessing import StandardScaler\n",
    "from sklearn.preprocessing import MinMaxScaler\n",
    "from sklearn import svm\n",
    "\n",
    "%matplotlib inline"
   ]
  },
  {
   "cell_type": "code",
   "execution_count": 3,
   "metadata": {},
   "outputs": [],
   "source": [
    "dataset_train = pd.read_csv(\"Training_day_9.txt\", sep = \",\", na_values = ['?','.'])\n",
    "dataset_test = pd.read_csv(\"Test_day_9.txt\", sep = \",\", na_values = ['?','.'])\n",
    "\n",
    "dataset_train = dataset_train.drop('Unnamed: 0',1)\n",
    "dataset_test = dataset_test.drop('Unnamed: 0',1)\n",
    "dataset_train = dataset_train.drop('time',1)\n",
    "dataset_test = dataset_test.drop('time',1)"
   ]
  },
  {
   "cell_type": "code",
   "execution_count": 3,
   "metadata": {},
   "outputs": [],
   "source": [
    "data = pd.concat([dataset_train, dataset_test])"
   ]
  },
  {
   "cell_type": "code",
   "execution_count": 4,
   "metadata": {},
   "outputs": [
    {
     "data": {
      "text/html": [
       "<div>\n",
       "<style>\n",
       "    .dataframe thead tr:only-child th {\n",
       "        text-align: right;\n",
       "    }\n",
       "\n",
       "    .dataframe thead th {\n",
       "        text-align: left;\n",
       "    }\n",
       "\n",
       "    .dataframe tbody tr th {\n",
       "        vertical-align: top;\n",
       "    }\n",
       "</style>\n",
       "<table border=\"1\" class=\"dataframe\">\n",
       "  <thead>\n",
       "    <tr style=\"text-align: right;\">\n",
       "      <th></th>\n",
       "      <th>source_user@domain</th>\n",
       "      <th>destination_user@domain</th>\n",
       "      <th>source_computer</th>\n",
       "      <th>destination_computer</th>\n",
       "      <th>authentication_type</th>\n",
       "      <th>logon_type</th>\n",
       "      <th>authentication_orientation</th>\n",
       "      <th>success/failure</th>\n",
       "      <th>Malignant/Benign</th>\n",
       "    </tr>\n",
       "  </thead>\n",
       "  <tbody>\n",
       "    <tr>\n",
       "      <th>0</th>\n",
       "      <td>C809$@DOM1</td>\n",
       "      <td>C809$@DOM1</td>\n",
       "      <td>C809</td>\n",
       "      <td>C457</td>\n",
       "      <td>Kerberos</td>\n",
       "      <td>Network</td>\n",
       "      <td>LogOn</td>\n",
       "      <td>Success</td>\n",
       "      <td>0</td>\n",
       "    </tr>\n",
       "    <tr>\n",
       "      <th>1</th>\n",
       "      <td>C16953$@DOM1</td>\n",
       "      <td>C16953$@DOM1</td>\n",
       "      <td>C16953</td>\n",
       "      <td>C1065</td>\n",
       "      <td>Kerberos</td>\n",
       "      <td>Network</td>\n",
       "      <td>LogOn</td>\n",
       "      <td>Success</td>\n",
       "      <td>0</td>\n",
       "    </tr>\n",
       "    <tr>\n",
       "      <th>2</th>\n",
       "      <td>C4664$@DOM1</td>\n",
       "      <td>C4664$@DOM1</td>\n",
       "      <td>C4665</td>\n",
       "      <td>C2106</td>\n",
       "      <td>Kerberos</td>\n",
       "      <td>Network</td>\n",
       "      <td>LogOn</td>\n",
       "      <td>Success</td>\n",
       "      <td>0</td>\n",
       "    </tr>\n",
       "    <tr>\n",
       "      <th>3</th>\n",
       "      <td>U22@DOM1</td>\n",
       "      <td>U22@DOM1</td>\n",
       "      <td>C477</td>\n",
       "      <td>C528</td>\n",
       "      <td>Kerberos</td>\n",
       "      <td>Network</td>\n",
       "      <td>LogOn</td>\n",
       "      <td>Success</td>\n",
       "      <td>0</td>\n",
       "    </tr>\n",
       "    <tr>\n",
       "      <th>4</th>\n",
       "      <td>C995$@DOM1</td>\n",
       "      <td>C995$@DOM1</td>\n",
       "      <td>C995</td>\n",
       "      <td>C625</td>\n",
       "      <td>Kerberos</td>\n",
       "      <td>Network</td>\n",
       "      <td>LogOn</td>\n",
       "      <td>Success</td>\n",
       "      <td>0</td>\n",
       "    </tr>\n",
       "  </tbody>\n",
       "</table>\n",
       "</div>"
      ],
      "text/plain": [
       "  source_user@domain destination_user@domain source_computer  \\\n",
       "0         C809$@DOM1              C809$@DOM1            C809   \n",
       "1       C16953$@DOM1            C16953$@DOM1          C16953   \n",
       "2        C4664$@DOM1             C4664$@DOM1           C4665   \n",
       "3           U22@DOM1                U22@DOM1            C477   \n",
       "4         C995$@DOM1              C995$@DOM1            C995   \n",
       "\n",
       "  destination_computer authentication_type logon_type  \\\n",
       "0                 C457            Kerberos    Network   \n",
       "1                C1065            Kerberos    Network   \n",
       "2                C2106            Kerberos    Network   \n",
       "3                 C528            Kerberos    Network   \n",
       "4                 C625            Kerberos    Network   \n",
       "\n",
       "  authentication_orientation success/failure  Malignant/Benign  \n",
       "0                      LogOn         Success                 0  \n",
       "1                      LogOn         Success                 0  \n",
       "2                      LogOn         Success                 0  \n",
       "3                      LogOn         Success                 0  \n",
       "4                      LogOn         Success                 0  "
      ]
     },
     "execution_count": 4,
     "metadata": {},
     "output_type": "execute_result"
    }
   ],
   "source": [
    "data.head()"
   ]
  },
  {
   "cell_type": "markdown",
   "metadata": {},
   "source": [
    "### Processing the data"
   ]
  },
  {
   "cell_type": "code",
   "execution_count": 5,
   "metadata": {},
   "outputs": [],
   "source": [
    "data.iloc[:,0] = pd.factorize(data.iloc[:,0])[0]\n",
    "data.iloc[:,1] = pd.factorize(data.iloc[:,1])[0]\n",
    "data.iloc[:,2] = pd.factorize(data.iloc[:,2])[0]\n",
    "data.iloc[:,3] = pd.factorize(data.iloc[:,3])[0]\n",
    "data.iloc[:,4] = pd.factorize(data.iloc[:,4])[0]\n",
    "data.iloc[:,5] = pd.factorize(data.iloc[:,5])[0]\n",
    "data.iloc[:,6] = pd.factorize(data.iloc[:,6])[0]\n",
    "data.iloc[:,7] = pd.factorize(data.iloc[:,7])[0]"
   ]
  },
  {
   "cell_type": "markdown",
   "metadata": {},
   "source": [
    "### Normalizing and Scaling the data"
   ]
  },
  {
   "cell_type": "code",
   "execution_count": 6,
   "metadata": {},
   "outputs": [
    {
     "name": "stderr",
     "output_type": "stream",
     "text": [
      "/home/trevor/anaconda3/lib/python3.6/site-packages/sklearn/utils/validation.py:475: DataConversionWarning: Data with input dtype int64 was converted to float64 by MinMaxScaler.\n",
      "  warnings.warn(msg, DataConversionWarning)\n"
     ]
    }
   ],
   "source": [
    "data['source_user@domain'] = MinMaxScaler(feature_range= (0,1)).fit_transform(data['source_user@domain'].values.reshape(-1, 1))\n",
    "data['destination_user@domain'] = MinMaxScaler(feature_range= (0,1)).fit_transform(data['destination_user@domain'].values.reshape(-1, 1))\n",
    "data['source_computer'] = MinMaxScaler(feature_range= (0,1)).fit_transform(data['source_computer'].values.reshape(-1, 1))\n",
    "data['destination_computer'] = MinMaxScaler(feature_range= (0,1)).fit_transform(data['destination_computer'].values.reshape(-1, 1))\n",
    "data['authentication_type'] = MinMaxScaler(feature_range= (0,1)).fit_transform(data['authentication_type'].values.reshape(-1, 1))\n",
    "data['logon_type'] = MinMaxScaler(feature_range= (0,1)).fit_transform(data['logon_type'].values.reshape(-1, 1))\n",
    "data['authentication_orientation'] = MinMaxScaler(feature_range= (0,1)).fit_transform(data['authentication_orientation'].values.reshape(-1, 1))\n",
    "data['success/failure'] = MinMaxScaler(feature_range= (0,1)).fit_transform(data['success/failure'].values.reshape(-1, 1))"
   ]
  },
  {
   "cell_type": "code",
   "execution_count": 7,
   "metadata": {},
   "outputs": [
    {
     "data": {
      "text/html": [
       "<div>\n",
       "<style>\n",
       "    .dataframe thead tr:only-child th {\n",
       "        text-align: right;\n",
       "    }\n",
       "\n",
       "    .dataframe thead th {\n",
       "        text-align: left;\n",
       "    }\n",
       "\n",
       "    .dataframe tbody tr th {\n",
       "        vertical-align: top;\n",
       "    }\n",
       "</style>\n",
       "<table border=\"1\" class=\"dataframe\">\n",
       "  <thead>\n",
       "    <tr style=\"text-align: right;\">\n",
       "      <th></th>\n",
       "      <th>source_user@domain</th>\n",
       "      <th>destination_user@domain</th>\n",
       "      <th>source_computer</th>\n",
       "      <th>destination_computer</th>\n",
       "      <th>authentication_type</th>\n",
       "      <th>logon_type</th>\n",
       "      <th>authentication_orientation</th>\n",
       "      <th>success/failure</th>\n",
       "      <th>Malignant/Benign</th>\n",
       "    </tr>\n",
       "  </thead>\n",
       "  <tbody>\n",
       "    <tr>\n",
       "      <th>0</th>\n",
       "      <td>0.000000</td>\n",
       "      <td>0.000000</td>\n",
       "      <td>0.000000</td>\n",
       "      <td>0.00000</td>\n",
       "      <td>0.0</td>\n",
       "      <td>0.0</td>\n",
       "      <td>0.0</td>\n",
       "      <td>0.0</td>\n",
       "      <td>0</td>\n",
       "    </tr>\n",
       "    <tr>\n",
       "      <th>1</th>\n",
       "      <td>0.000074</td>\n",
       "      <td>0.000072</td>\n",
       "      <td>0.000104</td>\n",
       "      <td>0.00043</td>\n",
       "      <td>0.0</td>\n",
       "      <td>0.0</td>\n",
       "      <td>0.0</td>\n",
       "      <td>0.0</td>\n",
       "      <td>0</td>\n",
       "    </tr>\n",
       "  </tbody>\n",
       "</table>\n",
       "</div>"
      ],
      "text/plain": [
       "   source_user@domain  destination_user@domain  source_computer  \\\n",
       "0            0.000000                 0.000000         0.000000   \n",
       "1            0.000074                 0.000072         0.000104   \n",
       "\n",
       "   destination_computer  authentication_type  logon_type  \\\n",
       "0               0.00000                  0.0         0.0   \n",
       "1               0.00043                  0.0         0.0   \n",
       "\n",
       "   authentication_orientation  success/failure  Malignant/Benign  \n",
       "0                         0.0              0.0                 0  \n",
       "1                         0.0              0.0                 0  "
      ]
     },
     "execution_count": 7,
     "metadata": {},
     "output_type": "execute_result"
    }
   ],
   "source": [
    "data.head(2)"
   ]
  },
  {
   "cell_type": "code",
   "execution_count": 8,
   "metadata": {},
   "outputs": [],
   "source": [
    "from sklearn.neural_network import MLPClassifier\n",
    "from sklearn.model_selection import train_test_split\n",
    "from sklearn.metrics import accuracy_score\n",
    "from sklearn.metrics import confusion_matrix"
   ]
  },
  {
   "cell_type": "code",
   "execution_count": 9,
   "metadata": {},
   "outputs": [],
   "source": [
    "df = data\n",
    "y = df['Malignant/Benign']\n",
    "x = df.drop(['Malignant/Benign'], axis=1)"
   ]
  },
  {
   "cell_type": "code",
   "execution_count": 10,
   "metadata": {},
   "outputs": [],
   "source": [
    "x_train, x_test, y_train, y_test = train_test_split(x,y, test_size= 0.25, random_state=27)"
   ]
  },
  {
   "cell_type": "markdown",
   "metadata": {},
   "source": [
    "### The model"
   ]
  },
  {
   "cell_type": "code",
   "execution_count": 11,
   "metadata": {},
   "outputs": [],
   "source": [
    "clf = MLPClassifier(hidden_layer_sizes=(100,100,100), max_iter=500, alpha=0.0001,\n",
    "                     solver='adam', verbose=10,  random_state=21,tol=0.000000001)"
   ]
  },
  {
   "cell_type": "code",
   "execution_count": 12,
   "metadata": {},
   "outputs": [
    {
     "name": "stdout",
     "output_type": "stream",
     "text": [
      "Iteration 1, loss = 0.09420026\n",
      "Iteration 2, loss = 0.01257282\n",
      "Iteration 3, loss = 0.00951991\n",
      "Iteration 4, loss = 0.00837878\n",
      "Iteration 5, loss = 0.00734608\n",
      "Iteration 6, loss = 0.00637110\n",
      "Iteration 7, loss = 0.00538445\n",
      "Iteration 8, loss = 0.00536571\n",
      "Iteration 9, loss = 0.00437573\n",
      "Iteration 10, loss = 0.00388300\n",
      "Iteration 11, loss = 0.00373888\n",
      "Iteration 12, loss = 0.00385279\n",
      "Iteration 13, loss = 0.00397087\n",
      "Iteration 14, loss = 0.00344292\n",
      "Iteration 15, loss = 0.00417242\n",
      "Iteration 16, loss = 0.00318487\n",
      "Iteration 17, loss = 0.00283840\n",
      "Iteration 18, loss = 0.00316833\n",
      "Iteration 19, loss = 0.00275004\n",
      "Iteration 20, loss = 0.00331874\n",
      "Iteration 21, loss = 0.00260406\n",
      "Iteration 22, loss = 0.00255442\n",
      "Iteration 23, loss = 0.00267754\n",
      "Iteration 24, loss = 0.00251551\n",
      "Iteration 25, loss = 0.00229157\n",
      "Iteration 26, loss = 0.00208983\n",
      "Iteration 27, loss = 0.00218114\n",
      "Iteration 28, loss = 0.00203859\n",
      "Iteration 29, loss = 0.00216434\n",
      "Iteration 30, loss = 0.00221852\n",
      "Iteration 31, loss = 0.00206045\n",
      "Training loss did not improve more than tol=0.000000 for two consecutive epochs. Stopping.\n"
     ]
    }
   ],
   "source": [
    "clf.fit(x_train, y_train)\n",
    "y_pred = clf.predict(x_test)"
   ]
  },
  {
   "cell_type": "code",
   "execution_count": 39,
   "metadata": {},
   "outputs": [
    {
     "data": {
      "text/plain": [
       "0.9996019900497513"
      ]
     },
     "execution_count": 39,
     "metadata": {},
     "output_type": "execute_result"
    }
   ],
   "source": [
    "accuracy_score(y_test, y_pred)"
   ]
  },
  {
   "cell_type": "code",
   "execution_count": 40,
   "metadata": {},
   "outputs": [
    {
     "data": {
      "text/plain": [
       "array([[9998,    4],\n",
       "       [   0,   48]])"
      ]
     },
     "execution_count": 40,
     "metadata": {},
     "output_type": "execute_result"
    }
   ],
   "source": [
    "cm = confusion_matrix(y_test, y_pred)\n",
    "cm"
   ]
  },
  {
   "cell_type": "code",
   "execution_count": 41,
   "metadata": {},
   "outputs": [
    {
     "name": "stdout",
     "output_type": "stream",
     "text": [
      "TP:  48\n",
      "FN:  0\n",
      "FP:  4\n",
      "TN:  9998\n"
     ]
    }
   ],
   "source": [
    "TN, FP, FN, TP = cm.ravel()\n",
    "\n",
    "print (\"TP: \", TP)\n",
    "print (\"FN: \", FN)\n",
    "print (\"FP: \", FP)\n",
    "print (\"TN: \", TN)"
   ]
  },
  {
   "cell_type": "code",
   "execution_count": 42,
   "metadata": {},
   "outputs": [
    {
     "name": "stdout",
     "output_type": "stream",
     "text": [
      "Accuracy:  1.0\n",
      "recall:  1.0\n",
      "Specificity:  1.0\n",
      "precision:  0.92\n",
      "F1:  0.96\n"
     ]
    }
   ],
   "source": [
    "# Performance Matrix\n",
    "accuracy = (TP+TN)/(TP+FN+FP+TN)\n",
    "print (\"Accuracy: \", np.round(accuracy, 2))\n",
    "recall = TP/(TP+FN)\n",
    "print (\"recall: \", np.round(recall, 2))\n",
    "specificity = TN/(TN+FP)\n",
    "print (\"Specificity: \", np.round(specificity, 2))\n",
    "precision = TP/(TP + FP)\n",
    "print (\"precision: \", np.round(precision, 2))\n",
    "F1 = 2/((1/precision) + (1/recall))\n",
    "print (\"F1: \", np.round(F1, 2))"
   ]
  },
  {
   "cell_type": "markdown",
   "metadata": {},
   "source": [
    "### Adding the number of layers"
   ]
  },
  {
   "cell_type": "code",
   "execution_count": 57,
   "metadata": {},
   "outputs": [],
   "source": [
    "clf = MLPClassifier(hidden_layer_sizes=(100,100,100,100,100), max_iter=500, alpha=0.0001,\n",
    "                     solver='adam', verbose=10,  random_state=21,tol=0.000000001)"
   ]
  },
  {
   "cell_type": "code",
   "execution_count": 58,
   "metadata": {},
   "outputs": [
    {
     "name": "stdout",
     "output_type": "stream",
     "text": [
      "Iteration 1, loss = 0.09491476\n",
      "Iteration 2, loss = 0.01117612\n",
      "Iteration 3, loss = 0.00912483\n",
      "Iteration 4, loss = 0.00801677\n",
      "Iteration 5, loss = 0.00721341\n",
      "Iteration 6, loss = 0.00562845\n",
      "Iteration 7, loss = 0.00577252\n",
      "Iteration 8, loss = 0.00511370\n",
      "Iteration 9, loss = 0.00442386\n",
      "Iteration 10, loss = 0.00453176\n",
      "Iteration 11, loss = 0.00387678\n",
      "Iteration 12, loss = 0.00347026\n",
      "Iteration 13, loss = 0.00346166\n",
      "Iteration 14, loss = 0.00417002\n",
      "Iteration 15, loss = 0.00354001\n",
      "Iteration 16, loss = 0.00288802\n",
      "Iteration 17, loss = 0.00291285\n",
      "Iteration 18, loss = 0.00249435\n",
      "Iteration 19, loss = 0.00259780\n",
      "Iteration 20, loss = 0.00345311\n",
      "Iteration 21, loss = 0.00275659\n",
      "Training loss did not improve more than tol=0.000000 for two consecutive epochs. Stopping.\n"
     ]
    }
   ],
   "source": [
    "clf.fit(x_train, y_train)\n",
    "y_pred = clf.predict(x_test)"
   ]
  },
  {
   "cell_type": "code",
   "execution_count": 59,
   "metadata": {},
   "outputs": [
    {
     "data": {
      "text/plain": [
       "0.9992039800995025"
      ]
     },
     "execution_count": 59,
     "metadata": {},
     "output_type": "execute_result"
    }
   ],
   "source": [
    "accuracy_score(y_test, y_pred)"
   ]
  },
  {
   "cell_type": "code",
   "execution_count": 60,
   "metadata": {},
   "outputs": [
    {
     "data": {
      "text/plain": [
       "array([[9998,    4],\n",
       "       [   4,   44]])"
      ]
     },
     "execution_count": 60,
     "metadata": {},
     "output_type": "execute_result"
    }
   ],
   "source": [
    "cm = confusion_matrix(y_test, y_pred)\n",
    "cm"
   ]
  },
  {
   "cell_type": "code",
   "execution_count": 61,
   "metadata": {},
   "outputs": [
    {
     "name": "stdout",
     "output_type": "stream",
     "text": [
      "TP:  44\n",
      "FN:  4\n",
      "FP:  4\n",
      "TN:  9998\n"
     ]
    }
   ],
   "source": [
    "TN, FP, FN, TP = cm.ravel()\n",
    "\n",
    "print (\"TP: \", TP)\n",
    "print (\"FN: \", FN)\n",
    "print (\"FP: \", FP)\n",
    "print (\"TN: \", TN)"
   ]
  },
  {
   "cell_type": "code",
   "execution_count": 62,
   "metadata": {},
   "outputs": [
    {
     "name": "stdout",
     "output_type": "stream",
     "text": [
      "Accuracy:  1.0\n",
      "recall:  0.92\n",
      "Specificity:  1.0\n",
      "precision:  0.92\n",
      "F1:  0.92\n"
     ]
    }
   ],
   "source": [
    "# Performance Matrix\n",
    "accuracy = (TP+TN)/(TP+FN+FP+TN)\n",
    "print (\"Accuracy: \", np.round(accuracy, 2))\n",
    "recall = TP/(TP+FN)\n",
    "print (\"recall: \", np.round(recall, 2))\n",
    "specificity = TN/(TN+FP)\n",
    "print (\"Specificity: \", np.round(specificity, 2))\n",
    "precision = TP/(TP + FP)\n",
    "print (\"precision: \", np.round(precision, 2))\n",
    "F1 = 2/((1/precision) + (1/recall))\n",
    "print (\"F1: \", np.round(F1, 2))"
   ]
  },
  {
   "cell_type": "markdown",
   "metadata": {},
   "source": [
    "Although the result is instresting, this model is not very useful for log anomaly detection because the learning here is supervised."
   ]
  },
  {
   "cell_type": "code",
   "execution_count": null,
   "metadata": {},
   "outputs": [],
   "source": []
  }
 ],
 "metadata": {
  "kernelspec": {
   "display_name": "Python 3",
   "language": "python",
   "name": "python3"
  },
  "language_info": {
   "codemirror_mode": {
    "name": "ipython",
    "version": 3
   },
   "file_extension": ".py",
   "mimetype": "text/x-python",
   "name": "python",
   "nbconvert_exporter": "python",
   "pygments_lexer": "ipython3",
   "version": "3.6.8"
  }
 },
 "nbformat": 4,
 "nbformat_minor": 2
}
