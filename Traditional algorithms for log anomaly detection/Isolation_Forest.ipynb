{
 "cells": [
  {
   "cell_type": "markdown",
   "metadata": {},
   "source": [
    "#### The dataset used here is day_9_test_new.txt , and should be renamed as Test_day_9.txt in order to run the code"
   ]
  },
  {
   "cell_type": "markdown",
   "metadata": {},
   "source": [
    "# Preprocessing of data and Isolation Forest\n",
    "Based on what they did here: https://github.com/pnnl/safekit/blob/master/safekit/features/lanl/word_feats.py . Create a Dictionary of Words containing the Tokens as 'keys' and their integer representations as 'value'."
   ]
  },
  {
   "cell_type": "code",
   "execution_count": 1,
   "metadata": {},
   "outputs": [],
   "source": [
    "import time\n",
    "import pandas as pd\n",
    "# dataset_train = pd.read_csv(\"Training_day_9.txt\", sep = \",\", na_values = ['?','.'])\n",
    "dataset_test = pd.read_csv(\"Test_day_9.txt\", sep = \",\", na_values = ['?','.'])"
   ]
  },
  {
   "cell_type": "code",
   "execution_count": 2,
   "metadata": {},
   "outputs": [],
   "source": [
    "# dataset_train = dataset_train.drop('Unnamed: 0',1)\n",
    "# dataset_test = dataset_test.drop('Unnamed: 0',1)\n",
    "# dataset_train = dataset_train.drop('time',1)\n",
    "dataset_test = dataset_test.drop('time',1)\n",
    "dataset_test.rename(columns={'anomaly':'Malignant/Benign'}, inplace=True)"
   ]
  },
  {
   "cell_type": "code",
   "execution_count": 3,
   "metadata": {},
   "outputs": [],
   "source": [
    "data = dataset_test"
   ]
  },
  {
   "cell_type": "code",
   "execution_count": 4,
   "metadata": {},
   "outputs": [
    {
     "data": {
      "text/html": [
       "<div>\n",
       "<style>\n",
       "    .dataframe thead tr:only-child th {\n",
       "        text-align: right;\n",
       "    }\n",
       "\n",
       "    .dataframe thead th {\n",
       "        text-align: left;\n",
       "    }\n",
       "\n",
       "    .dataframe tbody tr th {\n",
       "        vertical-align: top;\n",
       "    }\n",
       "</style>\n",
       "<table border=\"1\" class=\"dataframe\">\n",
       "  <thead>\n",
       "    <tr style=\"text-align: right;\">\n",
       "      <th></th>\n",
       "      <th>source_user@domain</th>\n",
       "      <th>destination_user@domain</th>\n",
       "      <th>source_computer</th>\n",
       "      <th>destination_computer</th>\n",
       "      <th>authentication_type</th>\n",
       "      <th>logon_type</th>\n",
       "      <th>authentication_orientation</th>\n",
       "      <th>success</th>\n",
       "      <th>Malignant/Benign</th>\n",
       "    </tr>\n",
       "  </thead>\n",
       "  <tbody>\n",
       "    <tr>\n",
       "      <th>0</th>\n",
       "      <td>U1653@DOM1</td>\n",
       "      <td>U1653@DOM1</td>\n",
       "      <td>C17693</td>\n",
       "      <td>C395</td>\n",
       "      <td>NTLM</td>\n",
       "      <td>Network</td>\n",
       "      <td>LogOn</td>\n",
       "      <td>Success</td>\n",
       "      <td>1</td>\n",
       "    </tr>\n",
       "    <tr>\n",
       "      <th>1</th>\n",
       "      <td>U2164@DOM1</td>\n",
       "      <td>U2164@DOM1</td>\n",
       "      <td>C6438</td>\n",
       "      <td>C2382</td>\n",
       "      <td>Kerberos</td>\n",
       "      <td>Network</td>\n",
       "      <td>LogOn</td>\n",
       "      <td>Success</td>\n",
       "      <td>0</td>\n",
       "    </tr>\n",
       "    <tr>\n",
       "      <th>2</th>\n",
       "      <td>U7988@DOM1</td>\n",
       "      <td>U7988@DOM1</td>\n",
       "      <td>C2039</td>\n",
       "      <td>C457</td>\n",
       "      <td>Kerberos</td>\n",
       "      <td>Network</td>\n",
       "      <td>LogOn</td>\n",
       "      <td>Success</td>\n",
       "      <td>0</td>\n",
       "    </tr>\n",
       "    <tr>\n",
       "      <th>3</th>\n",
       "      <td>C1708$@DOM1</td>\n",
       "      <td>C1708$@DOM1</td>\n",
       "      <td>C1709</td>\n",
       "      <td>C528</td>\n",
       "      <td>Kerberos</td>\n",
       "      <td>Network</td>\n",
       "      <td>LogOn</td>\n",
       "      <td>Success</td>\n",
       "      <td>0</td>\n",
       "    </tr>\n",
       "    <tr>\n",
       "      <th>4</th>\n",
       "      <td>C11388$@DOM1</td>\n",
       "      <td>C11388$@DOM1</td>\n",
       "      <td>C11388</td>\n",
       "      <td>C529</td>\n",
       "      <td>Kerberos</td>\n",
       "      <td>Network</td>\n",
       "      <td>LogOn</td>\n",
       "      <td>Success</td>\n",
       "      <td>0</td>\n",
       "    </tr>\n",
       "  </tbody>\n",
       "</table>\n",
       "</div>"
      ],
      "text/plain": [
       "  source_user@domain destination_user@domain source_computer  \\\n",
       "0         U1653@DOM1              U1653@DOM1          C17693   \n",
       "1         U2164@DOM1              U2164@DOM1           C6438   \n",
       "2         U7988@DOM1              U7988@DOM1           C2039   \n",
       "3        C1708$@DOM1             C1708$@DOM1           C1709   \n",
       "4       C11388$@DOM1            C11388$@DOM1          C11388   \n",
       "\n",
       "  destination_computer authentication_type logon_type  \\\n",
       "0                 C395                NTLM    Network   \n",
       "1                C2382            Kerberos    Network   \n",
       "2                 C457            Kerberos    Network   \n",
       "3                 C528            Kerberos    Network   \n",
       "4                 C529            Kerberos    Network   \n",
       "\n",
       "  authentication_orientation  success  Malignant/Benign  \n",
       "0                      LogOn  Success                 1  \n",
       "1                      LogOn  Success                 0  \n",
       "2                      LogOn  Success                 0  \n",
       "3                      LogOn  Success                 0  \n",
       "4                      LogOn  Success                 0  "
      ]
     },
     "execution_count": 4,
     "metadata": {},
     "output_type": "execute_result"
    }
   ],
   "source": [
    "data.head()"
   ]
  },
  {
   "cell_type": "code",
   "execution_count": 5,
   "metadata": {},
   "outputs": [],
   "source": [
    "A = data # will be resused for the confusion matrix\n",
    "data = data.drop('Malignant/Benign', 1) # because the model is Unsupervised"
   ]
  },
  {
   "cell_type": "markdown",
   "metadata": {},
   "source": [
    "### Data processing using factorization"
   ]
  },
  {
   "cell_type": "code",
   "execution_count": 6,
   "metadata": {},
   "outputs": [],
   "source": [
    "data.iloc[:,0] = pd.factorize(data.iloc[:,0])[0]\n",
    "data.iloc[:,1] = pd.factorize(data.iloc[:,1])[0]\n",
    "data.iloc[:,2] = pd.factorize(data.iloc[:,2])[0]\n",
    "data.iloc[:,3] = pd.factorize(data.iloc[:,3])[0]\n",
    "data.iloc[:,4] = pd.factorize(data.iloc[:,4])[0]\n",
    "data.iloc[:,5] = pd.factorize(data.iloc[:,5])[0]\n",
    "data.iloc[:,6] = pd.factorize(data.iloc[:,6])[0]\n",
    "data.iloc[:,7] = pd.factorize(data.iloc[:,7])[0]"
   ]
  },
  {
   "cell_type": "code",
   "execution_count": 7,
   "metadata": {},
   "outputs": [
    {
     "data": {
      "text/html": [
       "<div>\n",
       "<style>\n",
       "    .dataframe thead tr:only-child th {\n",
       "        text-align: right;\n",
       "    }\n",
       "\n",
       "    .dataframe thead th {\n",
       "        text-align: left;\n",
       "    }\n",
       "\n",
       "    .dataframe tbody tr th {\n",
       "        vertical-align: top;\n",
       "    }\n",
       "</style>\n",
       "<table border=\"1\" class=\"dataframe\">\n",
       "  <thead>\n",
       "    <tr style=\"text-align: right;\">\n",
       "      <th></th>\n",
       "      <th>source_user@domain</th>\n",
       "      <th>destination_user@domain</th>\n",
       "      <th>source_computer</th>\n",
       "      <th>destination_computer</th>\n",
       "      <th>authentication_type</th>\n",
       "      <th>logon_type</th>\n",
       "      <th>authentication_orientation</th>\n",
       "      <th>success</th>\n",
       "    </tr>\n",
       "  </thead>\n",
       "  <tbody>\n",
       "    <tr>\n",
       "      <th>0</th>\n",
       "      <td>0</td>\n",
       "      <td>0</td>\n",
       "      <td>0</td>\n",
       "      <td>0</td>\n",
       "      <td>0</td>\n",
       "      <td>0</td>\n",
       "      <td>0</td>\n",
       "      <td>0</td>\n",
       "    </tr>\n",
       "    <tr>\n",
       "      <th>1</th>\n",
       "      <td>1</td>\n",
       "      <td>1</td>\n",
       "      <td>1</td>\n",
       "      <td>1</td>\n",
       "      <td>1</td>\n",
       "      <td>0</td>\n",
       "      <td>0</td>\n",
       "      <td>0</td>\n",
       "    </tr>\n",
       "    <tr>\n",
       "      <th>2</th>\n",
       "      <td>2</td>\n",
       "      <td>2</td>\n",
       "      <td>2</td>\n",
       "      <td>2</td>\n",
       "      <td>1</td>\n",
       "      <td>0</td>\n",
       "      <td>0</td>\n",
       "      <td>0</td>\n",
       "    </tr>\n",
       "    <tr>\n",
       "      <th>3</th>\n",
       "      <td>3</td>\n",
       "      <td>3</td>\n",
       "      <td>3</td>\n",
       "      <td>3</td>\n",
       "      <td>1</td>\n",
       "      <td>0</td>\n",
       "      <td>0</td>\n",
       "      <td>0</td>\n",
       "    </tr>\n",
       "    <tr>\n",
       "      <th>4</th>\n",
       "      <td>4</td>\n",
       "      <td>4</td>\n",
       "      <td>4</td>\n",
       "      <td>4</td>\n",
       "      <td>1</td>\n",
       "      <td>0</td>\n",
       "      <td>0</td>\n",
       "      <td>0</td>\n",
       "    </tr>\n",
       "  </tbody>\n",
       "</table>\n",
       "</div>"
      ],
      "text/plain": [
       "   source_user@domain  destination_user@domain  source_computer  \\\n",
       "0                   0                        0                0   \n",
       "1                   1                        1                1   \n",
       "2                   2                        2                2   \n",
       "3                   3                        3                3   \n",
       "4                   4                        4                4   \n",
       "\n",
       "   destination_computer  authentication_type  logon_type  \\\n",
       "0                     0                    0           0   \n",
       "1                     1                    1           0   \n",
       "2                     2                    1           0   \n",
       "3                     3                    1           0   \n",
       "4                     4                    1           0   \n",
       "\n",
       "   authentication_orientation  success  \n",
       "0                           0        0  \n",
       "1                           0        0  \n",
       "2                           0        0  \n",
       "3                           0        0  \n",
       "4                           0        0  "
      ]
     },
     "execution_count": 7,
     "metadata": {},
     "output_type": "execute_result"
    }
   ],
   "source": [
    "data.head()"
   ]
  },
  {
   "cell_type": "markdown",
   "metadata": {},
   "source": [
    "### Perform anomaly detection on resulting processed dataset using IsolationForest\n",
    "Thanks to Manasa for her model which this is based on."
   ]
  },
  {
   "cell_type": "code",
   "execution_count": 8,
   "metadata": {},
   "outputs": [
    {
     "name": "stdout",
     "output_type": "stream",
     "text": [
      "Prediction run in 1.05s\n"
     ]
    }
   ],
   "source": [
    "from sklearn.ensemble import  IsolationForest \n",
    "\n",
    "# Add label for validation\n",
    "data_y = data\n",
    "data_y['anomaly'] = A['Malignant/Benign']\n",
    "\n",
    "iforest = IsolationForest(n_estimators=50, contamination=0.14, bootstrap = True)\n",
    "\n",
    "start_time = time.time()\n",
    "\n",
    "iforest = iforest.fit(data)\n",
    "pred_isoF = iforest.predict(data)\n",
    "\n",
    "stop_time = time.time()\n",
    "print(\"Prediction run in %.2fs\" % (stop_time - start_time))"
   ]
  },
  {
   "cell_type": "code",
   "execution_count": 9,
   "metadata": {},
   "outputs": [
    {
     "data": {
      "text/plain": [
       "array([-1,  1,  1, ..., -1,  1,  1])"
      ]
     },
     "execution_count": 9,
     "metadata": {},
     "output_type": "execute_result"
    }
   ],
   "source": [
    "pred_isoF"
   ]
  },
  {
   "cell_type": "code",
   "execution_count": 10,
   "metadata": {},
   "outputs": [],
   "source": [
    "\n",
    "data['pred'] = pred_isoF\n"
   ]
  },
  {
   "cell_type": "code",
   "execution_count": 11,
   "metadata": {},
   "outputs": [
    {
     "name": "stdout",
     "output_type": "stream",
     "text": [
      "TP:  200 \n",
      "FN:  0 \n",
      "FP:  1228 \n",
      "TN:  8772\n",
      "Accuracy:  0.88\n",
      "recall:  1.0\n",
      "Specificity:  0.88\n",
      "precision:  0.14\n",
      "F1:  0.25\n"
     ]
    }
   ],
   "source": [
    "import numpy as np\n",
    "\n",
    "# -1 is outlier, i.e. what we hope to be the anomaly\n",
    "TP = np.sum((data_y['anomaly'] == 1) & (data['pred'] == -1))\n",
    "FN = np.sum((data_y['anomaly'] == 1) & (data['pred'] ==  1))\n",
    "FP = np.sum((data_y['anomaly'] == 0) & (data['pred'] == -1))\n",
    "TN = np.sum((data_y['anomaly'] == 0) & (data['pred'] ==  1))\n",
    "\n",
    "print (\"TP: \", TP,\"\\nFN: \",  FN, \"\\nFP: \",  FP, \"\\nTN: \",  TN)\n",
    "\n",
    "# Performance Matrix\n",
    "accuracy = (TP+TN)/(TP+FN+FP+TN)\n",
    "print (\"Accuracy: \", np.round(accuracy, 2))\n",
    "recall = TP/(TP+FN)\n",
    "print (\"recall: \", np.round(recall, 2))\n",
    "specificity = TN/(TN+FP)\n",
    "print (\"Specificity: \", np.round(specificity, 2))\n",
    "precision = TP/(TP + FP)\n",
    "print (\"precision: \", np.round(precision, 2))\n",
    "F1 = 2/((1/precision) + (1/recall))\n",
    "print (\"F1: \", np.round(F1, 2))"
   ]
  },
  {
   "cell_type": "code",
   "execution_count": null,
   "metadata": {},
   "outputs": [],
   "source": []
  },
  {
   "cell_type": "code",
   "execution_count": null,
   "metadata": {},
   "outputs": [],
   "source": []
  }
 ],
 "metadata": {
  "kernelspec": {
   "display_name": "Python 3",
   "language": "python",
   "name": "python3"
  },
  "language_info": {
   "codemirror_mode": {
    "name": "ipython",
    "version": 3
   },
   "file_extension": ".py",
   "mimetype": "text/x-python",
   "name": "python",
   "nbconvert_exporter": "python",
   "pygments_lexer": "ipython3",
   "version": "3.6.8"
  }
 },
 "nbformat": 4,
 "nbformat_minor": 2
}
