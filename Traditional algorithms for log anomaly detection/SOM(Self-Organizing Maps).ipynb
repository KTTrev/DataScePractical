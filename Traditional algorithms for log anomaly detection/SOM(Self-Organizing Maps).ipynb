{
 "cells": [
  {
   "cell_type": "markdown",
   "metadata": {},
   "source": [
    "#### The dataset used here is day_9_test_new.txt , and should be renamed as Test_day_9.txt in order to run the code"
   ]
  },
  {
   "cell_type": "markdown",
   "metadata": {},
   "source": [
    "Based on https://github.com/JustGlowing/minisom/blob/master/examples/OutliersDetection.ipynb"
   ]
  },
  {
   "cell_type": "code",
   "execution_count": 1,
   "metadata": {},
   "outputs": [],
   "source": [
    "import time\n",
    "import numpy as np\n",
    "import matplotlib.pyplot as plt\n",
    "from matplotlib.gridspec import GridSpec\n",
    "%matplotlib inline"
   ]
  },
  {
   "cell_type": "code",
   "execution_count": 2,
   "metadata": {},
   "outputs": [],
   "source": [
    "import pandas as pd\n",
    "# dataset_train = pd.read_csv(\"Training_day_9.txt\", sep = \",\", na_values = ['?','.'])\n",
    "dataset_test = pd.read_csv(\"Test_day_9.txt\", sep = \",\", na_values = ['?','.'])"
   ]
  },
  {
   "cell_type": "code",
   "execution_count": 3,
   "metadata": {},
   "outputs": [],
   "source": [
    "# dataset_train = dataset_train.drop('Unnamed: 0',1)\n",
    "# dataset_test = dataset_test.drop('Unnamed: 0',1)\n",
    "# dataset_train = dataset_train.drop('time',1)\n",
    "dataset_test = dataset_test.drop('time',1)\n",
    "dataset_test.rename(columns={'anomaly':'Malignant/Benign'}, inplace=True)"
   ]
  },
  {
   "cell_type": "code",
   "execution_count": 4,
   "metadata": {},
   "outputs": [],
   "source": [
    "data = dataset_test"
   ]
  },
  {
   "cell_type": "code",
   "execution_count": 5,
   "metadata": {},
   "outputs": [],
   "source": [
    "# shuffle your dataframe in-place and reset the index. \n",
    "# specifying drop=True prevents reset_index from creating a column containing the old index entries\n",
    "# data = data.sample(frac=1).reset_index(drop=True)"
   ]
  },
  {
   "cell_type": "code",
   "execution_count": 6,
   "metadata": {},
   "outputs": [],
   "source": [
    "anomaly = data['Malignant/Benign'] # will be resused for the confusion matrix\n",
    "data = data.drop('Malignant/Benign', 1) # because the model is Unsupervised"
   ]
  },
  {
   "cell_type": "markdown",
   "metadata": {},
   "source": [
    "### Data processing using factorization"
   ]
  },
  {
   "cell_type": "code",
   "execution_count": 7,
   "metadata": {},
   "outputs": [],
   "source": [
    "data.iloc[:,0] = pd.factorize(data.iloc[:,0])[0]\n",
    "data.iloc[:,1] = pd.factorize(data.iloc[:,1])[0]\n",
    "data.iloc[:,2] = pd.factorize(data.iloc[:,2])[0]\n",
    "data.iloc[:,3] = pd.factorize(data.iloc[:,3])[0]\n",
    "data.iloc[:,4] = pd.factorize(data.iloc[:,4])[0]\n",
    "data.iloc[:,5] = pd.factorize(data.iloc[:,5])[0]\n",
    "data.iloc[:,6] = pd.factorize(data.iloc[:,6])[0]\n",
    "data.iloc[:,7] = pd.factorize(data.iloc[:,7])[0]"
   ]
  },
  {
   "cell_type": "code",
   "execution_count": 8,
   "metadata": {},
   "outputs": [],
   "source": [
    "from sklearn.preprocessing import scale\n",
    "data = scale(data)"
   ]
  },
  {
   "cell_type": "code",
   "execution_count": 9,
   "metadata": {},
   "outputs": [
    {
     "name": "stderr",
     "output_type": "stream",
     "text": [
      "/home/trevor/anaconda3/lib/python3.6/site-packages/minisom.py:123: UserWarning: Warning: sigma is too high for the dimension of the map.\n",
      "  warn('Warning: sigma is too high for the dimension of the map.')\n"
     ]
    },
    {
     "name": "stdout",
     "output_type": "stream",
     "text": [
      "\r",
      " [   0 / 100 ]   0% - ? it/s\r",
      " [   1 / 100 ]   1% - 40.12383 it/s\r",
      " [   2 / 100 ]   2% - 78.76849 it/s\r",
      " [   3 / 100 ]   3% - 117.51274 it/s\r",
      " [   4 / 100 ]   4% - 155.96122 it/s\r",
      " [   5 / 100 ]   5% - 193.26096 it/s\r",
      " [   6 / 100 ]   6% - 229.57329 it/s\r",
      " [   7 / 100 ]   7% - 265.76264 it/s\r",
      " [   8 / 100 ]   8% - 301.77291 it/s\r",
      " [   9 / 100 ]   9% - 337.47920 it/s\r",
      " [  10 / 100 ]  10% - 372.46945 it/s\r",
      " [  11 / 100 ]  11% - 407.09182 it/s\r",
      " [  12 / 100 ]  12% - 441.53280 it/s\r",
      " [  13 / 100 ]  13% - 475.61934 it/s\r",
      " [  14 / 100 ]  14% - 508.73964 it/s\r",
      " [  15 / 100 ]  15% - 542.84891 it/s\r",
      " [  16 / 100 ]  16% - 575.85392 it/s\r",
      " [  17 / 100 ]  17% - 607.78724 it/s\r",
      " [  18 / 100 ]  18% - 639.31605 it/s\r",
      " [  19 / 100 ]  19% - 672.02806 it/s\r",
      " [  20 / 100 ]  20% - 702.79893 it/s\r",
      " [  21 / 100 ]  21% - 734.25407 it/s\r",
      " [  22 / 100 ]  22% - 765.39029 it/s\r",
      " [  23 / 100 ]  23% - 797.44893 it/s\r",
      " [  24 / 100 ]  24% - 829.07768 it/s\r",
      " [  25 / 100 ]  25% - 856.65874 it/s\r",
      " [  26 / 100 ]  26% - 885.17593 it/s\r",
      " [  27 / 100 ]  27% - 914.73650 it/s\r",
      " [  28 / 100 ]  28% - 944.04039 it/s\r",
      " [  29 / 100 ]  29% - 971.99767 it/s\r",
      " [  30 / 100 ]  30% - 1002.21520 it/s\r",
      " [  31 / 100 ]  31% - 1031.94832 it/s\r",
      " [  32 / 100 ]  32% - 1056.91573 it/s\r",
      " [  33 / 100 ]  33% - 1083.34141 it/s\r",
      " [  34 / 100 ]  34% - 1112.21775 it/s\r",
      " [  35 / 100 ]  35% - 1138.07768 it/s\r",
      " [  36 / 100 ]  36% - 1166.47954 it/s\r",
      " [  37 / 100 ]  37% - 1193.07513 it/s\r",
      " [  38 / 100 ]  38% - 1219.48899 it/s\r",
      " [  39 / 100 ]  39% - 1244.39230 it/s\r",
      " [  40 / 100 ]  40% - 1270.44299 it/s\r",
      " [  41 / 100 ]  41% - 1297.74257 it/s\r",
      " [  42 / 100 ]  42% - 1322.88582 it/s\r",
      " [  43 / 100 ]  43% - 1346.77762 it/s\r",
      " [  44 / 100 ]  44% - 1371.94091 it/s\r",
      " [  45 / 100 ]  45% - 1394.89823 it/s\r",
      " [  46 / 100 ]  46% - 1415.55991 it/s\r",
      " [  47 / 100 ]  47% - 1436.64625 it/s\r",
      " [  48 / 100 ]  48% - 1457.25158 it/s\r",
      " [  49 / 100 ]  49% - 1478.07845 it/s\r",
      " [  50 / 100 ]  50% - 1499.11146 it/s\r",
      " [  51 / 100 ]  51% - 1520.62602 it/s\r",
      " [  52 / 100 ]  52% - 1539.50920 it/s\r",
      " [  53 / 100 ]  53% - 1553.30482 it/s\r",
      " [  54 / 100 ]  54% - 1576.99265 it/s\r",
      " [  55 / 100 ]  55% - 1597.04471 it/s\r",
      " [  56 / 100 ]  56% - 1621.13250 it/s\r",
      " [  57 / 100 ]  57% - 1643.17458 it/s\r",
      " [  58 / 100 ]  58% - 1665.47747 it/s\r",
      " [  59 / 100 ]  59% - 1686.31897 it/s\r",
      " [  60 / 100 ]  60% - 1709.91357 it/s\r",
      " [  61 / 100 ]  61% - 1729.98414 it/s\r",
      " [  62 / 100 ]  62% - 1751.86505 it/s\r",
      " [  63 / 100 ]  63% - 1773.59720 it/s\r",
      " [  64 / 100 ]  64% - 1794.87056 it/s\r",
      " [  65 / 100 ]  65% - 1817.78622 it/s\r",
      " [  66 / 100 ]  66% - 1837.31160 it/s\r",
      " [  67 / 100 ]  67% - 1858.39043 it/s\r",
      " [  68 / 100 ]  68% - 1878.51248 it/s\r",
      " [  69 / 100 ]  69% - 1897.36497 it/s\r",
      " [  70 / 100 ]  70% - 1916.15726 it/s\r",
      " [  71 / 100 ]  71% - 1935.17009 it/s\r",
      " [  72 / 100 ]  72% - 1952.47875 it/s\r",
      " [  73 / 100 ]  73% - 1971.59134 it/s\r",
      " [  74 / 100 ]  74% - 1990.33298 it/s\r",
      " [  75 / 100 ]  75% - 2010.89789 it/s\r",
      " [  76 / 100 ]  76% - 2027.13580 it/s\r",
      " [  77 / 100 ]  77% - 2045.72979 it/s\r",
      " [  78 / 100 ]  78% - 2064.20413 it/s\r",
      " [  79 / 100 ]  79% - 2081.57968 it/s\r",
      " [  80 / 100 ]  80% - 2099.39573 it/s\r",
      " [  81 / 100 ]  81% - 2117.39798 it/s\r",
      " [  82 / 100 ]  82% - 2137.37107 it/s\r",
      " [  83 / 100 ]  83% - 2151.58981 it/s\r",
      " [  84 / 100 ]  84% - 2169.16038 it/s\r",
      " [  85 / 100 ]  85% - 2186.58326 it/s\r",
      " [  86 / 100 ]  86% - 2204.56022 it/s\r",
      " [  87 / 100 ]  87% - 2219.26245 it/s\r",
      " [  88 / 100 ]  88% - 2236.12189 it/s\r",
      " [  89 / 100 ]  89% - 2252.98788 it/s\r",
      " [  90 / 100 ]  90% - 2272.39124 it/s\r",
      " [  91 / 100 ]  91% - 2286.16236 it/s\r",
      " [  92 / 100 ]  92% - 2302.67858 it/s\r",
      " [  93 / 100 ]  93% - 2317.88713 it/s\r",
      " [  94 / 100 ]  94% - 2335.77364 it/s\r",
      " [  95 / 100 ]  95% - 2348.84980 it/s\r",
      " [  96 / 100 ]  96% - 2364.79229 it/s\r",
      " [  97 / 100 ]  97% - 2382.69461 it/s\r",
      " [  98 / 100 ]  98% - 2392.99170 it/s\r",
      " [  99 / 100 ]  99% - 2410.58951 it/s\r",
      " [ 100 / 100 ] 100% - 2423.38857 it/s - quantization error: 1.9573543888751652\n",
      "Prediction run in 0.17s\n"
     ]
    }
   ],
   "source": [
    "from minisom import MiniSom\n",
    "\n",
    "\n",
    "som = MiniSom(x = 2, y = 1, input_len = data.shape[1], sigma = 1.0, learning_rate = 0.5,\n",
    "             neighborhood_function='triangle', random_seed=10)\n",
    "\n",
    "start_time = time.time()\n",
    "\n",
    "som.train_batch(data, 100, verbose=True)  # random training\n",
    "\n",
    "stop_time = time.time()\n",
    "print(\"Prediction run in %.2fs\" % (stop_time - start_time))"
   ]
  },
  {
   "cell_type": "code",
   "execution_count": 10,
   "metadata": {},
   "outputs": [],
   "source": [
    "outliers_percentage = 200/10200 "
   ]
  },
  {
   "cell_type": "code",
   "execution_count": 11,
   "metadata": {},
   "outputs": [],
   "source": [
    "quantization_errors = np.linalg.norm(som.quantization(data) - data, axis=1)\n",
    "error_treshold = np.percentile(quantization_errors, \n",
    "                               100*(1-outliers_percentage)-5)\n",
    "is_outlier = quantization_errors > error_treshold"
   ]
  },
  {
   "cell_type": "code",
   "execution_count": 12,
   "metadata": {},
   "outputs": [
    {
     "data": {
      "text/plain": [
       "Text(0,0.5,'frequency')"
      ]
     },
     "execution_count": 12,
     "metadata": {},
     "output_type": "execute_result"
    },
    {
     "data": {
      "image/png": "[encoded data removed]",
      "text/plain": [
       "<matplotlib.figure.Figure at 0x7f96fc8ac780>"
      ]
     },
     "metadata": {},
     "output_type": "display_data"
    }
   ],
   "source": [
    "plt.hist(quantization_errors)\n",
    "plt.axvline(error_treshold, color='k', linestyle='--')\n",
    "plt.xlabel('error')\n",
    "plt.ylabel('frequency')"
   ]
  },
  {
   "cell_type": "code",
   "execution_count": null,
   "metadata": {},
   "outputs": [],
   "source": []
  },
  {
   "cell_type": "code",
   "execution_count": 13,
   "metadata": {},
   "outputs": [
    {
     "data": {
      "text/plain": [
       "(9490,)"
      ]
     },
     "execution_count": 13,
     "metadata": {},
     "output_type": "execute_result"
    }
   ],
   "source": [
    "data[~is_outlier, 0].shape"
   ]
  },
  {
   "cell_type": "code",
   "execution_count": 14,
   "metadata": {},
   "outputs": [
    {
     "data": {
      "text/plain": [
       "(710,)"
      ]
     },
     "execution_count": 14,
     "metadata": {},
     "output_type": "execute_result"
    }
   ],
   "source": [
    "data[is_outlier, 0].shape"
   ]
  },
  {
   "cell_type": "code",
   "execution_count": 15,
   "metadata": {},
   "outputs": [
    {
     "data": {
      "text/plain": [
       "(10200, 8)"
      ]
     },
     "execution_count": 15,
     "metadata": {},
     "output_type": "execute_result"
    }
   ],
   "source": [
    "data.shape"
   ]
  },
  {
   "cell_type": "code",
   "execution_count": 16,
   "metadata": {},
   "outputs": [
    {
     "data": {
      "text/plain": [
       "(10200,)"
      ]
     },
     "execution_count": 16,
     "metadata": {},
     "output_type": "execute_result"
    }
   ],
   "source": [
    "is_outlier.shape"
   ]
  },
  {
   "cell_type": "code",
   "execution_count": 17,
   "metadata": {},
   "outputs": [
    {
     "name": "stderr",
     "output_type": "stream",
     "text": [
      "/home/trevor/anaconda3/lib/python3.6/site-packages/ipykernel_launcher.py:1: FutureWarning: elementwise comparison failed; returning scalar instead, but in the future will perform elementwise comparison\n",
      "  \"\"\"Entry point for launching an IPython kernel.\n"
     ]
    }
   ],
   "source": [
    "V = int(is_outlier == 'true')"
   ]
  },
  {
   "cell_type": "code",
   "execution_count": 18,
   "metadata": {},
   "outputs": [],
   "source": [
    "is_outlier = is_outlier.astype(int) # convert boolean into intergers"
   ]
  },
  {
   "cell_type": "code",
   "execution_count": 19,
   "metadata": {},
   "outputs": [
    {
     "data": {
      "text/plain": [
       "array([[9405,  595],\n",
       "       [  85,  115]])"
      ]
     },
     "execution_count": 19,
     "metadata": {},
     "output_type": "execute_result"
    }
   ],
   "source": [
    "from sklearn.metrics import confusion_matrix\n",
    "cm = confusion_matrix(anomaly, is_outlier)\n",
    "cm"
   ]
  },
  {
   "cell_type": "code",
   "execution_count": null,
   "metadata": {},
   "outputs": [],
   "source": []
  },
  {
   "cell_type": "code",
   "execution_count": 20,
   "metadata": {},
   "outputs": [
    {
     "data": {
      "text/plain": [
       "0.10146713615023474"
      ]
     },
     "execution_count": 20,
     "metadata": {},
     "output_type": "execute_result"
    }
   ],
   "source": [
    "from sklearn.metrics import average_precision_score\n",
    "average_precision_score(anomaly, is_outlier)"
   ]
  },
  {
   "cell_type": "code",
   "execution_count": null,
   "metadata": {},
   "outputs": [],
   "source": []
  },
  {
   "cell_type": "code",
   "execution_count": 21,
   "metadata": {},
   "outputs": [
    {
     "name": "stdout",
     "output_type": "stream",
     "text": [
      "TP:  115\n",
      "FN:  85\n",
      "FP:  595\n",
      "TN:  9405\n"
     ]
    }
   ],
   "source": [
    "TN, FP, FN, TP = cm.ravel()\n",
    "\n",
    "print (\"TP: \", TP)\n",
    "print (\"FN: \", FN)\n",
    "print (\"FP: \", FP)\n",
    "print (\"TN: \", TN)"
   ]
  },
  {
   "cell_type": "code",
   "execution_count": 22,
   "metadata": {},
   "outputs": [
    {
     "name": "stdout",
     "output_type": "stream",
     "text": [
      "Accuracy:  0.93\n",
      "recall:  0.57\n",
      "Specificity:  0.94\n",
      "precision:  0.16\n",
      "F1:  0.25\n"
     ]
    }
   ],
   "source": [
    "# Performance Matrix\n",
    "accuracy = (TP+TN)/(TP+FN+FP+TN)\n",
    "print (\"Accuracy: \", np.round(accuracy, 2))\n",
    "recall = TP/(TP+FN)\n",
    "print (\"recall: \", np.round(recall, 2))\n",
    "specificity = TN/(TN+FP)\n",
    "print (\"Specificity: \", np.round(specificity, 2))\n",
    "precision = TP/(TP + FP)\n",
    "print (\"precision: \", np.round(precision, 2))\n",
    "F1 = 2/((1/precision) + (1/recall))\n",
    "print (\"F1: \", np.round(F1, 2))"
   ]
  },
  {
   "cell_type": "code",
   "execution_count": 23,
   "metadata": {},
   "outputs": [
    {
     "data": {
      "text/plain": [
       "8"
      ]
     },
     "execution_count": 23,
     "metadata": {},
     "output_type": "execute_result"
    }
   ],
   "source": [
    "data.shape[1]"
   ]
  },
  {
   "cell_type": "code",
   "execution_count": null,
   "metadata": {},
   "outputs": [],
   "source": []
  }
 ],
 "metadata": {
  "kernelspec": {
   "display_name": "Python 3",
   "language": "python",
   "name": "python3"
  },
  "language_info": {
   "codemirror_mode": {
    "name": "ipython",
    "version": 3
   },
   "file_extension": ".py",
   "mimetype": "text/x-python",
   "name": "python",
   "nbconvert_exporter": "python",
   "pygments_lexer": "ipython3",
   "version": "3.6.8"
  }
 },
 "nbformat": 4,
 "nbformat_minor": 2
}
